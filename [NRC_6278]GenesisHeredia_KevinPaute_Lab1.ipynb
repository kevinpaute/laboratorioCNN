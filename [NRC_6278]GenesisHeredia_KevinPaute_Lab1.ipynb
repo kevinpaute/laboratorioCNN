{
 "cells": [
  {
   "cell_type": "markdown",
   "id": "53c66d56",
   "metadata": {},
   "source": [
    "<center><h1>Laboratorio 1 CNN - Inteligencia Artificial</h1></center>\n",
    "\n",
    "Nombres:\n",
    "\n",
    "- Genesis Heredia\n",
    "- Kevin Paute Sánchez\n",
    "\n",
    "Fecha: 11/08/2022"
   ]
  },
  {
   "cell_type": "markdown",
   "id": "c87bafd3",
   "metadata": {},
   "source": [
    "# Importar librerías"
   ]
  },
  {
   "cell_type": "code",
   "execution_count": 1,
   "id": "fb820db9",
   "metadata": {},
   "outputs": [],
   "source": [
    "#Se realiza la importación de la libreria cv2\n",
    "import cv2\n",
    "#Se realiza la importación de la libreria numpy\n",
    "import numpy as np\n",
    "#Se realiza la importación de la libreria os\n",
    "import os\n",
    "os.environ['TF_CPP_MIN_LOG_LEVEL'] = '3' \n",
    "#Se realiza la importación de la libreria pandas\n",
    "import pandas as pd\n",
    "#Se realiza la importación de la libreria plt\n",
    "import matplotlib.pyplot as plt\n",
    "#Se realiza la importación de la libreria seaborn\n",
    "import seaborn as sn\n",
    "#Se realiza la importación de la libreria keras\n",
    "from keras.preprocessing.image import ImageDataGenerator\n",
    "#Se importa shutil\n",
    "import shutil\n",
    "#Se importa glob\n",
    "import glob\n",
    "#Se importa tensorflow\n",
    "from tensorflow.keras.utils import img_to_array, array_to_img, img_to_array, load_img\n",
    "#Se importa Image de PIL\n",
    "from  PIL  import Image\n",
    "#Se importa remove de rembg\n",
    "from rembg import remove\n",
    "#Se importa MinMaxScaler de sklearn\n",
    "from sklearn.preprocessing import MinMaxScaler"
   ]
  },
  {
   "cell_type": "markdown",
   "id": "f287b376",
   "metadata": {},
   "source": [
    "# Cargar dataset"
   ]
  },
  {
   "cell_type": "code",
   "execution_count": 2,
   "id": "e0830fa9",
   "metadata": {},
   "outputs": [
    {
     "name": "stdout",
     "output_type": "stream",
     "text": [
      "['ArroboMercy', 'CevallosJoan', 'GenesisHeredia', 'HectorCedeño', 'JhonZambrano', 'JordanEspinosa', 'OlallaLuis', 'ParragaMariaJose', 'PauteKevin', 'RivasSelena']\n"
     ]
    }
   ],
   "source": [
    "#Se cargan las imagenes del dataset colocando la ruta de la carpeta general\n",
    "ruta_imagenes = \"dataset_imagenes\"\n",
    "#Función que permite listar las carpetas que contiene \n",
    "clases = os.listdir(ruta_imagenes)\n",
    "#Función que permite clasificar los nombres de cada carpeta\n",
    "clases.sort()\n",
    "#Imprimir los nombres de las carpetas\n",
    "print(clases)"
   ]
  },
  {
   "cell_type": "markdown",
   "id": "6ae87204",
   "metadata": {},
   "source": [
    "# Prepocesamiento de imágenes"
   ]
  },
  {
   "cell_type": "code",
   "execution_count": null,
   "id": "8e7b6a97",
   "metadata": {},
   "outputs": [],
   "source": [
    "'''\n",
    "    Ciclo for para copiar las imágenes y realizar data aumented\n",
    "'''\n",
    "for n_clase in clases:\n",
    "    cur_path = ruta_imagenes + \"/\" + n_clase\n",
    "    elements = os.listdir(cur_path)\n",
    "    \n",
    "    for element in elements:\n",
    "        print(\"Copiando imagen - {} en Banana_dataset_Augmented/{}\".format(element, n_clase))\n",
    "        src = os.path.join(ruta_imagenes + \"/\" + n_clase, element) # origen\n",
    "        dst = os.path.join(\"Banana_dataset_Augmented/\" + n_clase, element) \n",
    "        shutil.copy(src, dst)"
   ]
  },
  {
   "cell_type": "markdown",
   "id": "047e961d",
   "metadata": {},
   "source": [
    "## Data augmentation"
   ]
  },
  {
   "cell_type": "code",
   "execution_count": null,
   "id": "0794226d",
   "metadata": {},
   "outputs": [],
   "source": [
    "datagen = ImageDataGenerator(\n",
    "        rotation_range=40,\n",
    "        width_shift_range=0.2,\n",
    "        height_shift_range=0.2,\n",
    "        rescale=1./255,\n",
    "        shear_range=0.2,\n",
    "        zoom_range=0.4,\n",
    "        horizontal_flip=True,\n",
    "        fill_mode='nearest')"
   ]
  }
 ],
 "metadata": {
  "kernelspec": {
   "display_name": "Python 3 (ipykernel)",
   "language": "python",
   "name": "python3"
  },
  "language_info": {
   "codemirror_mode": {
    "name": "ipython",
    "version": 3
   },
   "file_extension": ".py",
   "mimetype": "text/x-python",
   "name": "python",
   "nbconvert_exporter": "python",
   "pygments_lexer": "ipython3",
   "version": "3.9.12"
  }
 },
 "nbformat": 4,
 "nbformat_minor": 5
}
