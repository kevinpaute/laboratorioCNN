{
 "cells": [
  {
   "cell_type": "markdown",
   "id": "255a8f9c",
   "metadata": {},
   "source": [
    "<center><h1>Laboratorio 1 CNN - Inteligencia Artificial</h1></center>\n",
    "\n",
    "Nombres:\n",
    "\n",
    "- Genesis Heredia\n",
    "- Kevin Paute Sánchez\n",
    "\n",
    "Fecha: 11/08/2022"
   ]
  },
  {
   "cell_type": "markdown",
   "id": "21bd904d",
   "metadata": {},
   "source": [
    "# Importar librerías"
   ]
  },
  {
   "cell_type": "code",
   "execution_count": 2,
   "id": "982c70bc",
   "metadata": {},
   "outputs": [],
   "source": [
    "#Se realiza la importación de la libreria cv2\n",
    "import cv2\n",
    "#Se realiza la importación de la libreria numpy\n",
    "import numpy as np\n",
    "#Se realiza la importación de la libreria os\n",
    "import os\n",
    "os.environ['TF_CPP_MIN_LOG_LEVEL'] = '3' \n",
    "#Se realiza la importación de la libreria pandas\n",
    "import pandas as pd\n",
    "#Se realiza la importación de la libreria plt\n",
    "import matplotlib.pyplot as plt\n",
    "#Se realiza la importación de la libreria seaborn\n",
    "import seaborn as sn\n",
    "#Se realiza la importación de la libreria keras\n",
    "from keras.preprocessing.image import ImageDataGenerator\n",
    "#Se importa shutil\n",
    "import shutil\n",
    "#Se importa glob\n",
    "import glob\n",
    "#Se importa tensorflow\n",
    "from tensorflow.keras.utils import img_to_array, array_to_img, img_to_array, load_img\n",
    "#Se importa Image de PIL\n",
    "from  PIL  import Image\n",
    "#Se importa remove de rembg\n",
    "from rembg import remove\n",
    "#Se importa MinMaxScaler de sklearn\n",
    "from sklearn.preprocessing import MinMaxScaler"
   ]
  },
  {
   "cell_type": "markdown",
   "id": "18289a2d",
   "metadata": {},
   "source": [
    "# Cargar dataset"
   ]
  },
  {
   "cell_type": "code",
   "execution_count": 3,
   "id": "066df890",
   "metadata": {},
   "outputs": [
    {
     "name": "stdout",
     "output_type": "stream",
     "text": [
      "['ArroboMercy', 'CevallosJoan', 'GenesisHeredia', 'HectorCedeño', 'JhonZambrano', 'JordanEspinosa', 'OlallaLuis', 'ParragaMariaJose', 'PauteKevin', 'RivasSelena']\n"
     ]
    }
   ],
   "source": [
    "#Se cargan las imagenes del dataset colocando la ruta de la carpeta general\n",
    "ruta_imagenes = \"dataset_imagenes\"\n",
    "#Función que permite listar las carpetas que contiene \n",
    "clases = os.listdir(ruta_imagenes)\n",
    "#Función que permite clasificar los nombres de cada carpeta\n",
    "clases.sort()\n",
    "#Imprimir los nombres de las carpetas\n",
    "print(clases)"
   ]
  },
  {
   "cell_type": "markdown",
   "id": "d79ccda9",
   "metadata": {},
   "source": [
    "# Preprocesamiento de imágenes"
   ]
  },
  {
   "cell_type": "code",
   "execution_count": 4,
   "id": "99f0a3c5",
   "metadata": {},
   "outputs": [
    {
     "name": "stdout",
     "output_type": "stream",
     "text": [
      "Copiando imagen - L00385770_1.png en dataset_imagenes_augmented/ArroboMercy\n",
      "Copiando imagen - L00385770_2.png en dataset_imagenes_augmented/ArroboMercy\n",
      "Copiando imagen - L00385770_3.png en dataset_imagenes_augmented/ArroboMercy\n",
      "Copiando imagen - L00376416_1.jpg en dataset_imagenes_augmented/CevallosJoan\n",
      "Copiando imagen - L00376416_2.jpg en dataset_imagenes_augmented/CevallosJoan\n",
      "Copiando imagen - L00376416_3.jpg en dataset_imagenes_augmented/CevallosJoan\n",
      "Copiando imagen - L00392991_1.png en dataset_imagenes_augmented/GenesisHeredia\n",
      "Copiando imagen - L00392991_2.png en dataset_imagenes_augmented/GenesisHeredia\n",
      "Copiando imagen - L00392991_3.png en dataset_imagenes_augmented/GenesisHeredia\n",
      "Copiando imagen - L00392989_1.jpg en dataset_imagenes_augmented/HectorCedeño\n",
      "Copiando imagen - L00392989_2.jpg en dataset_imagenes_augmented/HectorCedeño\n",
      "Copiando imagen - L00392989_3.jpg en dataset_imagenes_augmented/HectorCedeño\n",
      "Copiando imagen - L00392993_Centro.png en dataset_imagenes_augmented/JhonZambrano\n",
      "Copiando imagen - L00392993_LD.png en dataset_imagenes_augmented/JhonZambrano\n",
      "Copiando imagen - L00392993_LI.png en dataset_imagenes_augmented/JhonZambrano\n",
      "Copiando imagen - L00080128_1 Frente.png en dataset_imagenes_augmented/JordanEspinosa\n",
      "Copiando imagen - L00080128_2 Derecho.png en dataset_imagenes_augmented/JordanEspinosa\n",
      "Copiando imagen - L00080128_3 Izquierda.png en dataset_imagenes_augmented/JordanEspinosa\n",
      "Copiando imagen - L00393001_1.jpg en dataset_imagenes_augmented/OlallaLuis\n",
      "Copiando imagen - L00393001_2.jpg en dataset_imagenes_augmented/OlallaLuis\n",
      "Copiando imagen - L00393001_3.jpg en dataset_imagenes_augmented/OlallaLuis\n",
      "Copiando imagen - L00392984_1.png en dataset_imagenes_augmented/ParragaMariaJose\n",
      "Copiando imagen - L00392984_2.png en dataset_imagenes_augmented/ParragaMariaJose\n",
      "Copiando imagen - L00392984_3.png en dataset_imagenes_augmented/ParragaMariaJose\n",
      "Copiando imagen - L00080134_1.jpg en dataset_imagenes_augmented/PauteKevin\n",
      "Copiando imagen - L00080134_2.jpg en dataset_imagenes_augmented/PauteKevin\n",
      "Copiando imagen - L00080134_3.jpg en dataset_imagenes_augmented/PauteKevin\n",
      "Copiando imagen - L00376689_1.jpg en dataset_imagenes_augmented/RivasSelena\n",
      "Copiando imagen - L00376689_2.jpg en dataset_imagenes_augmented/RivasSelena\n",
      "Copiando imagen - L00376689_3.jpg en dataset_imagenes_augmented/RivasSelena\n"
     ]
    }
   ],
   "source": [
    "'''\n",
    "    Ciclo for para copiar las imágenes y realizar data aumented\n",
    "'''\n",
    "for n_clase in clases:\n",
    "    cur_path = ruta_imagenes + \"/\" + n_clase\n",
    "    elements = os.listdir(cur_path)\n",
    "    \n",
    "    for element in elements:\n",
    "        print(\"Copiando imagen - {} en dataset_imagenes_augmented/{}\".format(element, n_clase))\n",
    "        src = os.path.join(ruta_imagenes + \"/\" + n_clase, element) # origen\n",
    "        dst = os.path.join(\"dataset_imagenes_augmented/\" + n_clase, element) \n",
    "        shutil.copy(src, dst)"
   ]
  },
  {
   "cell_type": "markdown",
   "id": "829de459",
   "metadata": {},
   "source": [
    "## Data augmentation"
   ]
  },
  {
   "cell_type": "code",
   "execution_count": 5,
   "id": "b953b199",
   "metadata": {},
   "outputs": [],
   "source": [
    "datagen = ImageDataGenerator(\n",
    "        rotation_range=40,\n",
    "        width_shift_range=0.2,\n",
    "        height_shift_range=0.2,\n",
    "        rescale=1./255,\n",
    "        shear_range=0.2,\n",
    "        zoom_range=0.4,\n",
    "        horizontal_flip=True,\n",
    "        fill_mode='nearest')"
   ]
  },
  {
   "cell_type": "markdown",
   "id": "853558eb",
   "metadata": {},
   "source": [
    "### Clase Mercy Arrobo"
   ]
  },
  {
   "cell_type": "code",
   "execution_count": 6,
   "id": "6ccaef8f",
   "metadata": {},
   "outputs": [],
   "source": [
    "os.chdir(\"dataset_imagenes_augmented/ArroboMercy\")\n",
    "for ruta in os.listdir():\n",
    "    img = load_img(f\"{ruta}\")\n",
    "    x = img_to_array(img) \n",
    "    x = x.reshape((1,) + x.shape)\n",
    "    i = 0\n",
    "    for batch in datagen.flow(x, batch_size=1,\n",
    "            save_to_dir=\".\", \n",
    "            save_prefix= 'ArroboMercy', \n",
    "            save_format='jpg'):\n",
    "        i += 1\n",
    "        if i == 1:      \n",
    "            break "
   ]
  },
  {
   "cell_type": "markdown",
   "id": "9989d6e3",
   "metadata": {},
   "source": [
    "### Clase CevallosJoan"
   ]
  },
  {
   "cell_type": "code",
   "execution_count": 7,
   "id": "353f9a96",
   "metadata": {},
   "outputs": [],
   "source": [
    "os.chdir(r\"C:\\Users\\usuar\\Documents\\Laboratorio1U3\\laboratorioCNN\\dataset_imagenes_augmented\\CevallosJoan\")\n",
    "for ruta in os.listdir():\n",
    "    img = load_img(f\"{ruta}\")\n",
    "    x = img_to_array(img) \n",
    "    x = x.reshape((1,) + x.shape)\n",
    "    i = 0\n",
    "    for batch in datagen.flow(x, batch_size=1,\n",
    "            save_to_dir=\".\", \n",
    "            save_prefix= 'CevallosJoan', \n",
    "            save_format='jpg'):\n",
    "        i += 1\n",
    "        if i == 1:      \n",
    "            break "
   ]
  },
  {
   "cell_type": "markdown",
   "id": "c38b168d",
   "metadata": {},
   "source": [
    "### Clase GenesisHeredia"
   ]
  },
  {
   "cell_type": "code",
   "execution_count": 8,
   "id": "d0f5dae1",
   "metadata": {},
   "outputs": [],
   "source": [
    "os.chdir(r\"C:\\Users\\usuar\\Documents\\Laboratorio1U3\\laboratorioCNN\\dataset_imagenes_augmented\\GenesisHeredia\")\n",
    "for ruta in os.listdir():\n",
    "    img = load_img(f\"{ruta}\")\n",
    "    x = img_to_array(img) \n",
    "    x = x.reshape((1,) + x.shape)\n",
    "    i = 0\n",
    "    for batch in datagen.flow(x, batch_size=1,\n",
    "            save_to_dir=\".\", \n",
    "            save_prefix= 'GenesisHeredia', \n",
    "            save_format='jpg'):\n",
    "        i += 1\n",
    "        if i == 1:      \n",
    "            break "
   ]
  },
  {
   "cell_type": "markdown",
   "id": "6dcbed5d",
   "metadata": {},
   "source": [
    "### Clase HectorCedeño"
   ]
  },
  {
   "cell_type": "code",
   "execution_count": 9,
   "id": "faa2e9f4",
   "metadata": {},
   "outputs": [],
   "source": [
    "os.chdir(r\"C:\\Users\\usuar\\Documents\\Laboratorio1U3\\laboratorioCNN\\dataset_imagenes_augmented\\HectorCedeño\")\n",
    "for ruta in os.listdir():\n",
    "    img = load_img(f\"{ruta}\")\n",
    "    x = img_to_array(img) \n",
    "    x = x.reshape((1,) + x.shape)\n",
    "    i = 0\n",
    "    for batch in datagen.flow(x, batch_size=1,\n",
    "            save_to_dir=\".\", \n",
    "            save_prefix= 'HectorCedeño', \n",
    "            save_format='jpg'):\n",
    "        i += 1\n",
    "        if i == 1:      \n",
    "            break "
   ]
  },
  {
   "cell_type": "markdown",
   "id": "bc5c8817",
   "metadata": {},
   "source": [
    "### Clase JhonZambrano"
   ]
  },
  {
   "cell_type": "code",
   "execution_count": 10,
   "id": "a1cb8025",
   "metadata": {},
   "outputs": [],
   "source": [
    "os.chdir(r\"C:\\Users\\usuar\\Documents\\Laboratorio1U3\\laboratorioCNN\\dataset_imagenes_augmented\\JhonZambrano\")\n",
    "for ruta in os.listdir():\n",
    "    img = load_img(f\"{ruta}\")\n",
    "    x = img_to_array(img) \n",
    "    x = x.reshape((1,) + x.shape)\n",
    "    i = 0\n",
    "    for batch in datagen.flow(x, batch_size=1,\n",
    "            save_to_dir=\".\", \n",
    "            save_prefix= 'JhonZambrano', \n",
    "            save_format='jpg'):\n",
    "        i += 1\n",
    "        if i == 1:      \n",
    "            break "
   ]
  },
  {
   "cell_type": "markdown",
   "id": "e21f57d1",
   "metadata": {},
   "source": [
    "### Clase JordanEspinosa"
   ]
  },
  {
   "cell_type": "code",
   "execution_count": 11,
   "id": "04acd9c5",
   "metadata": {},
   "outputs": [],
   "source": [
    "os.chdir(r\"C:\\Users\\usuar\\Documents\\Laboratorio1U3\\laboratorioCNN\\dataset_imagenes_augmented\\JordanEspinosa\")\n",
    "for ruta in os.listdir():\n",
    "    img = load_img(f\"{ruta}\")\n",
    "    x = img_to_array(img) \n",
    "    x = x.reshape((1,) + x.shape)\n",
    "    i = 0\n",
    "    for batch in datagen.flow(x, batch_size=1,\n",
    "            save_to_dir=\".\", \n",
    "            save_prefix= 'JordanEspinosa', \n",
    "            save_format='jpg'):\n",
    "        i += 1\n",
    "        if i == 1:      \n",
    "            break "
   ]
  },
  {
   "cell_type": "markdown",
   "id": "9d89d795",
   "metadata": {},
   "source": [
    "### Clase OlallaLuis"
   ]
  },
  {
   "cell_type": "code",
   "execution_count": 12,
   "id": "93b9e274",
   "metadata": {},
   "outputs": [],
   "source": [
    "os.chdir(r\"C:\\Users\\usuar\\Documents\\Laboratorio1U3\\laboratorioCNN\\dataset_imagenes_augmented\\OlallaLuis\")\n",
    "for ruta in os.listdir():\n",
    "    img = load_img(f\"{ruta}\")\n",
    "    x = img_to_array(img) \n",
    "    x = x.reshape((1,) + x.shape)\n",
    "    i = 0\n",
    "    for batch in datagen.flow(x, batch_size=1,\n",
    "            save_to_dir=\".\", \n",
    "            save_prefix= 'OlallaLuis', \n",
    "            save_format='jpg'):\n",
    "        i += 1\n",
    "        if i == 1:      \n",
    "            break "
   ]
  },
  {
   "cell_type": "markdown",
   "id": "ebdd8dab",
   "metadata": {},
   "source": [
    "### Clase ParragaMariaJose"
   ]
  },
  {
   "cell_type": "code",
   "execution_count": 13,
   "id": "145ad457",
   "metadata": {},
   "outputs": [],
   "source": [
    "os.chdir(r\"C:\\Users\\usuar\\Documents\\Laboratorio1U3\\laboratorioCNN\\dataset_imagenes_augmented\\ParragaMariaJose\")\n",
    "for ruta in os.listdir():\n",
    "    img = load_img(f\"{ruta}\")\n",
    "    x = img_to_array(img) \n",
    "    x = x.reshape((1,) + x.shape)\n",
    "    i = 0\n",
    "    for batch in datagen.flow(x, batch_size=1,\n",
    "            save_to_dir=\".\", \n",
    "            save_prefix= 'ParragaMariaJose', \n",
    "            save_format='jpg'):\n",
    "        i += 1\n",
    "        if i == 1:      \n",
    "            break "
   ]
  },
  {
   "cell_type": "markdown",
   "id": "e4703fbc",
   "metadata": {},
   "source": [
    "### Clase PauteKevin"
   ]
  },
  {
   "cell_type": "code",
   "execution_count": 14,
   "id": "9a3891ad",
   "metadata": {},
   "outputs": [],
   "source": [
    "os.chdir(r\"C:\\Users\\usuar\\Documents\\Laboratorio1U3\\laboratorioCNN\\dataset_imagenes_augmented\\PauteKevin\")\n",
    "for ruta in os.listdir():\n",
    "    img = load_img(f\"{ruta}\")\n",
    "    x = img_to_array(img) \n",
    "    x = x.reshape((1,) + x.shape)\n",
    "    i = 0\n",
    "    for batch in datagen.flow(x, batch_size=1,\n",
    "            save_to_dir=\".\", \n",
    "            save_prefix= 'PauteKevin', \n",
    "            save_format='jpg'):\n",
    "        i += 1\n",
    "        if i == 1:      \n",
    "            break "
   ]
  },
  {
   "cell_type": "markdown",
   "id": "b15ba2f9",
   "metadata": {},
   "source": [
    "### Clase RivasSelena"
   ]
  },
  {
   "cell_type": "code",
   "execution_count": 15,
   "id": "7b55226b",
   "metadata": {},
   "outputs": [],
   "source": [
    "os.chdir(r\"C:\\Users\\usuar\\Documents\\Laboratorio1U3\\laboratorioCNN\\dataset_imagenes_augmented\\RivasSelena\")\n",
    "for ruta in os.listdir():\n",
    "    img = load_img(f\"{ruta}\")\n",
    "    x = img_to_array(img) \n",
    "    x = x.reshape((1,) + x.shape)\n",
    "    i = 0\n",
    "    for batch in datagen.flow(x, batch_size=1,\n",
    "            save_to_dir=\".\", \n",
    "            save_prefix= 'RivasSelena', \n",
    "            save_format='jpg'):\n",
    "        i += 1\n",
    "        if i == 1:      \n",
    "            break "
   ]
  },
  {
   "cell_type": "code",
   "execution_count": null,
   "id": "72fb2af3",
   "metadata": {},
   "outputs": [],
   "source": []
  }
 ],
 "metadata": {
  "kernelspec": {
   "display_name": "Python 3 (ipykernel)",
   "language": "python",
   "name": "python3"
  },
  "language_info": {
   "codemirror_mode": {
    "name": "ipython",
    "version": 3
   },
   "file_extension": ".py",
   "mimetype": "text/x-python",
   "name": "python",
   "nbconvert_exporter": "python",
   "pygments_lexer": "ipython3",
   "version": "3.9.12"
  }
 },
 "nbformat": 4,
 "nbformat_minor": 5
}
